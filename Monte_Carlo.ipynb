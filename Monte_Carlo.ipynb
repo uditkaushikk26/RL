{
  "cells": [
    {
      "cell_type": "markdown",
      "metadata": {
        "id": "view-in-github",
        "colab_type": "text"
      },
      "source": [
        "<a href=\"https://colab.research.google.com/github/uditkaushikk26/RL/blob/main/Monte_Carlo.ipynb\" target=\"_parent\"><img src=\"https://colab.research.google.com/assets/colab-badge.svg\" alt=\"Open In Colab\"/></a>"
      ]
    },
    {
      "cell_type": "code",
      "execution_count": null,
      "metadata": {
        "id": "lewHDC6q-mnY"
      },
      "outputs": [],
      "source": [
        "import numpy as np"
      ]
    },
    {
      "cell_type": "code",
      "execution_count": null,
      "metadata": {
        "id": "u-VEOndm-mnc"
      },
      "outputs": [],
      "source": [
        "eps = [\n",
        "    [\"A+3\", \"A+2\", \"B-4\", \"A+4\", \"B-3\",\"terminate\"],\n",
        "    [\"B-2\", \"A+3\", \"B-3\", \"terminate\"]\n",
        "       ]\n",
        "\n",
        "states = [\"A\",\"B\",\"terminate\"]"
      ]
    },
    {
      "cell_type": "code",
      "execution_count": null,
      "metadata": {
        "id": "x9CrW_U3-mnd"
      },
      "outputs": [],
      "source": [
        "def first_vist(episode, states):\n",
        "    state_values = dict(zip( states, np.zeros(len(states)) ))\n",
        "    print(\"Initial State:\",state_values)\n",
        "\n",
        "    for i in range(len(states)):\n",
        "        temp_states = []\n",
        "        state = states[i]\n",
        "\n",
        "        if state == \"terminate\":\n",
        "            state_values[state] = 0\n",
        "            continue\n",
        "\n",
        "        eps_total = 0\n",
        "\n",
        "        if state == \"terminate\":\n",
        "            return None\n",
        "\n",
        "        else:\n",
        "            for i in range(len(episode)):\n",
        "                for j in range(len(episode[i])-1):\n",
        "                    if episode[i][j][0] == state:\n",
        "                        eps_total = eval( \"eps_total\"+episode[i][j][1:] )\n",
        "\n",
        "                        for k in range(j+1, len(episode[i])-1):\n",
        "                            eps_total = eval( \"eps_total\"+episode[i][k][1:]  )\n",
        "\n",
        "                        temp_states.append(eps_total)\n",
        "                        break\n",
        "                    else:\n",
        "                        continue\n",
        "                eps_total = 0\n",
        "\n",
        "            state_values[state] = np.mean(temp_states)\n",
        "\n",
        "    return state_values"
      ]
    },
    {
      "cell_type": "code",
      "execution_count": null,
      "metadata": {
        "id": "1HFFf-hT-mne",
        "outputId": "f1b6da66-02c1-4cd4-adbd-b4e8bb518314"
      },
      "outputs": [
        {
          "name": "stdout",
          "output_type": "stream",
          "text": [
            "Initial State: {'A': 0.0, 'B': 0.0, 'terminate': 0.0}\n"
          ]
        },
        {
          "data": {
            "text/plain": [
              "{'A': 1.0, 'B': -2.5, 'terminate': 0}"
            ]
          },
          "execution_count": 9,
          "metadata": {},
          "output_type": "execute_result"
        }
      ],
      "source": [
        "first_vist(eps, states)"
      ]
    }
  ],
  "metadata": {
    "kernelspec": {
      "display_name": "Python 3",
      "language": "python",
      "name": "python3"
    },
    "language_info": {
      "codemirror_mode": {
        "name": "ipython",
        "version": 3
      },
      "file_extension": ".py",
      "mimetype": "text/x-python",
      "name": "python",
      "nbconvert_exporter": "python",
      "pygments_lexer": "ipython3",
      "version": "3.11.5"
    },
    "colab": {
      "provenance": [],
      "include_colab_link": true
    }
  },
  "nbformat": 4,
  "nbformat_minor": 0
}